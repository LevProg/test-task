{
 "cells": [
  {
   "cell_type": "code",
   "execution_count": 1,
   "metadata": {},
   "outputs": [
    {
     "name": "stdout",
     "output_type": "stream",
     "text": [
      "DataFrame с мультииндексом:\n",
      "             total  something\n",
      "city   year                  \n",
      "city_1 2010    101         10\n",
      "       2020    201         11\n",
      "city_2 2010    102         12\n",
      "       2020    202         13\n",
      "city_3 2010    103         14\n",
      "       2020    203         15\n"
     ]
    }
   ],
   "source": [
    "import pandas as pd\n",
    "import numpy as np\n",
    "\n",
    "# Мультииндекс для Series\n",
    "index = [\n",
    "    ('city_1', 2010),\n",
    "    ('city_1', 2020),\n",
    "    ('city_2', 2010),\n",
    "    ('city_2', 2020),\n",
    "    ('city_3', 2010),\n",
    "    ('city_3', 2020),\n",
    "]\n",
    "population = [101, 201, 102, 202, 103, 203]\n",
    "\n",
    "pop = pd.Series(population, index=pd.MultiIndex.from_tuples(index, names=['city', 'year']))\n",
    "\n",
    "# DataFrame на основе Series\n",
    "pop_df = pd.DataFrame(\n",
    "    {\n",
    "        'total': pop,\n",
    "        'something': [10, 11, 12, 13, 14, 15],\n",
    "    }\n",
    ")\n",
    "\n",
    "print(\"DataFrame с мультииндексом:\")\n",
    "print(pop_df)"
   ]
  },
  {
   "cell_type": "code",
   "execution_count": 2,
   "metadata": {},
   "outputs": [
    {
     "name": "stdout",
     "output_type": "stream",
     "text": [
      "year\n",
      "2010    10\n",
      "2020    11\n",
      "Name: something, dtype: int64\n"
     ]
    }
   ],
   "source": [
    "pop_df_1 = pop_df.loc[('city_1'), 'something']\n",
    "print(pop_df_1)"
   ]
  },
  {
   "cell_type": "code",
   "execution_count": 3,
   "metadata": {},
   "outputs": [
    {
     "name": "stdout",
     "output_type": "stream",
     "text": [
      "             total  something\n",
      "city   year                  \n",
      "city_1 2010    101         10\n",
      "       2020    201         11\n",
      "city_3 2010    103         14\n",
      "       2020    203         15\n"
     ]
    }
   ],
   "source": [
    "pop_df_2 = pop_df.loc[[('city_1', 2010), ('city_1', 2020), ('city_3', 2010), ('city_3', 2020)], ['total', 'something']]\n",
    "print(pop_df_2)"
   ]
  },
  {
   "cell_type": "code",
   "execution_count": 4,
   "metadata": {},
   "outputs": [
    {
     "name": "stdout",
     "output_type": "stream",
     "text": [
      "city    year\n",
      "city_1  2010    10\n",
      "        2020    11\n",
      "city_3  2010    14\n",
      "        2020    15\n",
      "Name: something, dtype: int64\n"
     ]
    }
   ],
   "source": [
    "pop_df_3 = pop_df.loc[[('city_1', 2010), ('city_1', 2020), ('city_3', 2010), ('city_3', 2020)], 'something']\n",
    "print(pop_df_3)"
   ]
  },
  {
   "cell_type": "code",
   "execution_count": 5,
   "metadata": {},
   "outputs": [
    {
     "name": "stdout",
     "output_type": "stream",
     "text": [
      "\n",
      "DataFrame для работы:\n",
      "worker      person_1       person_2       person_3      \n",
      "job            job_1 job_2    job_1 job_2    job_1 job_2\n",
      "city   year                                             \n",
      "city_1 2010       60    93       66    28       17    29\n",
      "       2020       45    10       70    98       40    13\n",
      "city_2 2010       82     9       30    15       95    23\n",
      "       2020       86    37       27    50       98    38\n"
     ]
    }
   ],
   "source": [
    "# Пример DataFrame с мультииндексом\n",
    "index = pd.MultiIndex.from_product(\n",
    "    [['city_1', 'city_2'], [2010, 2020]],\n",
    "    names=['city', 'year']\n",
    ")\n",
    "columns = pd.MultiIndex.from_product(\n",
    "    [['person_1', 'person_2', 'person_3'], ['job_1', 'job_2']],\n",
    "    names=['worker', 'job']\n",
    ")\n",
    "\n",
    "data = np.random.randint(1, 100, size=(4, 6))\n",
    "df = pd.DataFrame(data, index=index, columns=columns)\n",
    "\n",
    "print(\"\\nDataFrame для работы:\")\n",
    "print(df)"
   ]
  },
  {
   "cell_type": "code",
   "execution_count": 6,
   "metadata": {},
   "outputs": [
    {
     "name": "stdout",
     "output_type": "stream",
     "text": [
      "worker      person_1       person_2       person_3      \n",
      "job            job_1 job_2    job_1 job_2    job_1 job_2\n",
      "city   year                                             \n",
      "city_1 2020       45    10       70    98       40    13\n",
      "city_2 2020       86    37       27    50       98    38\n"
     ]
    }
   ],
   "source": [
    "df_2020 = df.loc[(slice(None), 2020), :]\n",
    "print(df_2020)"
   ]
  },
  {
   "cell_type": "code",
   "execution_count": 7,
   "metadata": {},
   "outputs": [
    {
     "name": "stdout",
     "output_type": "stream",
     "text": [
      "worker      person_1 person_2 person_3\n",
      "job            job_1    job_1    job_1\n",
      "city   year                           \n",
      "city_1 2010       60       66       17\n",
      "       2020       45       70       40\n",
      "city_2 2010       82       30       95\n",
      "       2020       86       27       98\n"
     ]
    }
   ],
   "source": [
    "df_job_1 = df.loc[:, (slice(None), 'job_1')]\n",
    "print(df_job_1)"
   ]
  },
  {
   "cell_type": "code",
   "execution_count": 8,
   "metadata": {},
   "outputs": [
    {
     "name": "stdout",
     "output_type": "stream",
     "text": [
      "worker      person_1 person_2 person_3\n",
      "job            job_2    job_2    job_2\n",
      "city   year                           \n",
      "city_1 2010       93       28       29\n",
      "       2020       10       98       13\n"
     ]
    }
   ],
   "source": [
    "df_city_1_job_2 = df.loc[('city_1', slice(None)), (slice(None), 'job_2')]\n",
    "print(df_city_1_job_2)"
   ]
  },
  {
   "cell_type": "code",
   "execution_count": 9,
   "metadata": {},
   "outputs": [
    {
     "name": "stdout",
     "output_type": "stream",
     "text": [
      "\n",
      "DataFrame для работы:\n",
      "worker      person_1       person_2       person_3      \n",
      "job            job_1 job_2    job_1 job_2    job_1 job_2\n",
      "city   year                                             \n",
      "city_1 2010       61    61        5    77       97    51\n",
      "       2020       64    96       86    45       36    35\n",
      "city_2 2010       99    67       43    11       83    56\n",
      "       2020       96    61       11    81       71    39\n"
     ]
    }
   ],
   "source": [
    "# Пример DataFrame с мультииндексом\n",
    "index = pd.MultiIndex.from_product(\n",
    "    [['city_1', 'city_2'], [2010, 2020]],\n",
    "    names=['city', 'year']\n",
    ")\n",
    "columns = pd.MultiIndex.from_product(\n",
    "    [['person_1', 'person_2', 'person_3'], ['job_1', 'job_2']],\n",
    "    names=['worker', 'job']\n",
    ")\n",
    "\n",
    "data = np.random.randint(1, 100, size=(4, 6))\n",
    "df = pd.DataFrame(data, index=index, columns=columns)\n",
    "\n",
    "print(\"\\nDataFrame для работы:\")\n",
    "print(df)"
   ]
  },
  {
   "cell_type": "code",
   "execution_count": 10,
   "metadata": {},
   "outputs": [
    {
     "name": "stdout",
     "output_type": "stream",
     "text": [
      "worker      person_1       person_3      \n",
      "job            job_1 job_2    job_1 job_2\n",
      "city   year                              \n",
      "city_1 2010       61    61       97    51\n",
      "       2020       64    96       36    35\n",
      "city_2 2010       99    67       83    56\n",
      "       2020       96    61       71    39\n"
     ]
    }
   ],
   "source": [
    "idx = pd.IndexSlice\n",
    "df_person_1_3 = df.loc[:, idx[['person_1', 'person_3'], :]]\n",
    "print(df_person_1_3)"
   ]
  },
  {
   "cell_type": "code",
   "execution_count": 11,
   "metadata": {},
   "outputs": [
    {
     "name": "stdout",
     "output_type": "stream",
     "text": [
      "worker      person_1       person_2      \n",
      "job            job_1 job_2    job_1 job_2\n",
      "city   year                              \n",
      "city_1 2010       61    61        5    77\n",
      "       2020       64    96       86    45\n"
     ]
    }
   ],
   "source": [
    "df_city_1_first_two = df.loc[idx['city_1', :], idx[['person_1', 'person_2'], :]]\n",
    "print(df_city_1_first_two)"
   ]
  },
  {
   "cell_type": "code",
   "execution_count": 12,
   "metadata": {},
   "outputs": [
    {
     "name": "stdout",
     "output_type": "stream",
     "text": [
      "\n",
      "Outer join:\n",
      "1    a\n",
      "2    b\n",
      "3    c\n",
      "4    b\n",
      "5    c\n",
      "6    f\n",
      "dtype: object\n",
      "\n",
      "Inner join:\n",
      "1    a\n",
      "2    b\n",
      "3    c\n",
      "4    b\n",
      "5    c\n",
      "6    f\n",
      "dtype: object\n"
     ]
    }
   ],
   "source": [
    "# Создание Series\n",
    "ser1 = pd.Series(['a', 'b', 'c'], index=[1, 2, 3])\n",
    "ser2 = pd.Series(['b', 'c', 'f'], index=[4, 5, 6])\n",
    "\n",
    "# Outer join\n",
    "outer_join = pd.concat([ser1, ser2], join='outer')\n",
    "print(\"\\nOuter join:\")\n",
    "print(outer_join)\n",
    "\n",
    "# Inner join\n",
    "inner_join = pd.concat([ser1, ser2], join='inner')\n",
    "print(\"\\nInner join:\")\n",
    "print(inner_join)"
   ]
  },
  {
   "cell_type": "code",
   "execution_count": null,
   "metadata": {},
   "outputs": [],
   "source": []
  },
  {
   "cell_type": "code",
   "execution_count": null,
   "metadata": {},
   "outputs": [],
   "source": []
  }
 ],
 "metadata": {
  "kernelspec": {
   "display_name": "Python 3",
   "language": "python",
   "name": "python3"
  },
  "language_info": {
   "codemirror_mode": {
    "name": "ipython",
    "version": 3
   },
   "file_extension": ".py",
   "mimetype": "text/x-python",
   "name": "python",
   "nbconvert_exporter": "python",
   "pygments_lexer": "ipython3",
   "version": "3.8.3"
  }
 },
 "nbformat": 4,
 "nbformat_minor": 4
}
