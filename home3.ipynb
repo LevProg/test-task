{
 "cells": [
  {
   "cell_type": "code",
   "execution_count": 1,
   "metadata": {},
   "outputs": [
    {
     "name": "stdout",
     "output_type": "stream",
     "text": [
      "Series из списка:\n",
      "0    1\n",
      "1    2\n",
      "2    3\n",
      "3    4\n",
      "dtype: int64\n",
      "\n",
      "Series из массива NumPy:\n",
      "0    5\n",
      "1    6\n",
      "2    7\n",
      "3    8\n",
      "dtype: int32\n",
      "\n",
      "Series из скалярного значения:\n",
      "0    10\n",
      "1    10\n",
      "2    10\n",
      "3    10\n",
      "dtype: int64\n",
      "\n",
      "Series из словаря:\n",
      "a    1\n",
      "b    2\n",
      "c    3\n",
      "dtype: int64\n"
     ]
    }
   ],
   "source": [
    "# Задание 1: Создание объектов Series различными способами\n",
    "\n",
    "import pandas as pd\n",
    "import numpy as np\n",
    "\n",
    "# 1.1 Создание Series из списка Python или массива NumPy\n",
    "list_series = pd.Series([1, 2, 3, 4])\n",
    "numpy_series = pd.Series(np.array([5, 6, 7, 8]))\n",
    "\n",
    "print(\"Series из списка:\")\n",
    "print(list_series)\n",
    "print(\"\\nSeries из массива NumPy:\")\n",
    "print(numpy_series)\n",
    "\n",
    "# 1.2 Создание Series из скалярного значения\n",
    "scalar_series = pd.Series(10, index=[0, 1, 2, 3])\n",
    "print(\"\\nSeries из скалярного значения:\")\n",
    "print(scalar_series)\n",
    "\n",
    "# 1.3 Создание Series из словаря\n",
    "dict_series = pd.Series({'a': 1, 'b': 2, 'c': 3})\n",
    "print(\"\\nSeries из словаря:\")\n",
    "print(dict_series)"
   ]
  },
  {
   "cell_type": "code",
   "execution_count": 2,
   "metadata": {},
   "outputs": [
    {
     "name": "stdout",
     "output_type": "stream",
     "text": [
      "\n",
      "DataFrame через Series:\n",
      "   A  B\n",
      "0  1  4\n",
      "1  2  5\n",
      "2  3  6\n",
      "\n",
      "DataFrame из списка словарей:\n",
      "   A  B\n",
      "0  1  2\n",
      "1  3  4\n",
      "\n",
      "DataFrame из словаря Series:\n",
      "   X  Y\n",
      "0  1  3\n",
      "1  2  4\n",
      "\n",
      "DataFrame из двумерного массива NumPy:\n",
      "   A  B\n",
      "0  1  2\n",
      "1  3  4\n",
      "\n",
      "DataFrame из структурированного массива NumPy:\n",
      "   id value\n",
      "0   1     A\n",
      "1   2     B\n"
     ]
    }
   ],
   "source": [
    "# Задание 2: Создание объектов DataFrame различными способами\n",
    "\n",
    "# 2.1 Создание DataFrame через объекты Series\n",
    "s1 = pd.Series([1, 2, 3])\n",
    "s2 = pd.Series([4, 5, 6])\n",
    "df_from_series = pd.DataFrame({'A': s1, 'B': s2})\n",
    "print(\"\\nDataFrame через Series:\")\n",
    "print(df_from_series)\n",
    "\n",
    "# 2.2 Создание DataFrame из списка словарей\n",
    "list_of_dicts = [{'A': 1, 'B': 2}, {'A': 3, 'B': 4}]\n",
    "df_from_list_of_dicts = pd.DataFrame(list_of_dicts)\n",
    "print(\"\\nDataFrame из списка словарей:\")\n",
    "print(df_from_list_of_dicts)\n",
    "\n",
    "# 2.3 Создание DataFrame из словаря объектов Series\n",
    "dict_of_series = {'X': pd.Series([1, 2]), 'Y': pd.Series([3, 4])}\n",
    "df_from_dict_of_series = pd.DataFrame(dict_of_series)\n",
    "print(\"\\nDataFrame из словаря Series:\")\n",
    "print(df_from_dict_of_series)\n",
    "\n",
    "# 2.4 Создание DataFrame из двумерного массива NumPy\n",
    "numpy_array = np.array([[1, 2], [3, 4]])\n",
    "df_from_numpy_array = pd.DataFrame(numpy_array, columns=['A', 'B'])\n",
    "print(\"\\nDataFrame из двумерного массива NumPy:\")\n",
    "print(df_from_numpy_array)\n",
    "\n",
    "# 2.5 Создание DataFrame из структурированного массива NumPy\n",
    "structured_array = np.array([(1, 'A'), (2, 'B')], dtype=[('id', int), ('value', 'U1')])\n",
    "df_from_structured_array = pd.DataFrame(structured_array)\n",
    "print(\"\\nDataFrame из структурированного массива NumPy:\")\n",
    "print(df_from_structured_array)"
   ]
  },
  {
   "cell_type": "code",
   "execution_count": 3,
   "metadata": {},
   "outputs": [
    {
     "name": "stdout",
     "output_type": "stream",
     "text": [
      "\n",
      "Объединение Series с заменой NaN на 1:\n",
      "a    2.0\n",
      "b    6.0\n",
      "c    8.0\n",
      "dtype: float64\n"
     ]
    }
   ],
   "source": [
    "# Задание 3: Объединение двух объектов Series с заменой NaN на 1\n",
    "\n",
    "s3 = pd.Series([1, 2, 3], index=['a', 'b', 'c'])\n",
    "s4 = pd.Series([4, 5], index=['b', 'c'])\n",
    "\n",
    "# Объединение с заменой NaN на 1\n",
    "combined_series = s3.add(s4, fill_value=1)\n",
    "print(\"\\nОбъединение Series с заменой NaN на 1:\")\n",
    "print(combined_series)"
   ]
  },
  {
   "cell_type": "code",
   "execution_count": 4,
   "metadata": {},
   "outputs": [
    {
     "name": "stdout",
     "output_type": "stream",
     "text": [
      "\n",
      "Вычитание по столбцам:\n",
      "     A    B\n",
      "0  0.0  3.0\n",
      "1  0.0  3.0\n",
      "2  NaN  NaN\n"
     ]
    }
   ],
   "source": [
    "# Задание 4: Транслирование для DataFrame с вычитанием по столбцам\n",
    "\n",
    "data = {'A': [1, 2, 3], 'B': [4, 5, 6]}\n",
    "df = pd.DataFrame(data)\n",
    "row_to_subtract = pd.Series([1, 2])\n",
    "\n",
    "# Вычитание по столбцам\n",
    "result_df = df.sub(row_to_subtract, axis=0)\n",
    "print(\"\\nВычитание по столбцам:\")\n",
    "print(result_df)"
   ]
  },
  {
   "cell_type": "code",
   "execution_count": 5,
   "metadata": {},
   "outputs": [
    {
     "name": "stdout",
     "output_type": "stream",
     "text": [
      "\n",
      "Использование метода ffill():\n",
      "     A    B\n",
      "0  1.0  NaN\n",
      "1  1.0  2.0\n",
      "2  1.0  2.0\n",
      "3  4.0  5.0\n",
      "\n",
      "Использование метода bfill():\n",
      "     A    B\n",
      "0  1.0  2.0\n",
      "1  4.0  2.0\n",
      "2  4.0  5.0\n",
      "3  4.0  5.0\n"
     ]
    }
   ],
   "source": [
    "# Задание 5: Использование методов ffill() и bfill()\n",
    "\n",
    "df_with_nan = pd.DataFrame({\n",
    "    'A': [1, np.nan, np.nan, 4],\n",
    "    'B': [np.nan, 2, np.nan, 5]\n",
    "})\n",
    "\n",
    "# Применение ffill()\n",
    "ffill_result = df_with_nan.ffill()\n",
    "print(\"\\nИспользование метода ffill():\")\n",
    "print(ffill_result)\n",
    "\n",
    "# Применение bfill()\n",
    "bfill_result = df_with_nan.bfill()\n",
    "print(\"\\nИспользование метода bfill():\")\n",
    "print(bfill_result)"
   ]
  },
  {
   "cell_type": "code",
   "execution_count": null,
   "metadata": {},
   "outputs": [],
   "source": []
  }
 ],
 "metadata": {
  "kernelspec": {
   "display_name": "Python 3",
   "language": "python",
   "name": "python3"
  },
  "language_info": {
   "codemirror_mode": {
    "name": "ipython",
    "version": 3
   },
   "file_extension": ".py",
   "mimetype": "text/x-python",
   "name": "python",
   "nbconvert_exporter": "python",
   "pygments_lexer": "ipython3",
   "version": "3.8.3"
  }
 },
 "nbformat": 4,
 "nbformat_minor": 4
}
